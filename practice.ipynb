{
 "cells": [
  {
   "cell_type": "code",
   "execution_count": 1,
   "id": "93d645b6",
   "metadata": {},
   "outputs": [],
   "source": [
    "import pandas as pd\n",
    "import matplotlib.pyplot as plt"
   ]
  },
  {
   "cell_type": "code",
   "execution_count": 32,
   "id": "1d119bc8",
   "metadata": {},
   "outputs": [
    {
     "name": "stdout",
     "output_type": "stream",
     "text": [
      "    EmployeeID Department  Age Gender  Salary  YearsAtCompany  Projects  \\\n",
      "0          101  Marketing   49      F   42049               8         5   \n",
      "1          102    Finance   19      M   71616              14         4   \n",
      "2          103         IT   30      F   78191              14         2   \n",
      "3          104    Finance   29      F   60932              12         2   \n",
      "4          105    Finance   33      F   69855               3         5   \n",
      "..         ...        ...  ...    ...     ...             ...       ...   \n",
      "95         196         IT   43      F   63355               1         7   \n",
      "96         197    Finance   45      F   62009              14         7   \n",
      "97         198         HR   30      M   64376              14         6   \n",
      "98         199         HR   41      F   44780              14         5   \n",
      "99         200      Sales   38      F   42368               4         4   \n",
      "\n",
      "    Sales (in $)  HoursWorked  PerformanceScore  \n",
      "0              0          178               3.2  \n",
      "1              0          140               4.4  \n",
      "2          10644          142               4.1  \n",
      "3          15518          152               4.5  \n",
      "4              0          167               4.8  \n",
      "..           ...          ...               ...  \n",
      "95         14435          180               3.5  \n",
      "96          8709          174               4.5  \n",
      "97         28003          140               4.1  \n",
      "98             0          160               4.4  \n",
      "99             0          187               3.1  \n",
      "\n",
      "[100 rows x 10 columns]\n"
     ]
    }
   ],
   "source": [
    "data=pd.read_csv(\"company_analytics.csv\")\n",
    "print(data)"
   ]
  },
  {
   "cell_type": "markdown",
   "id": "60e95e40",
   "metadata": {},
   "source": [
    "## shape of data"
   ]
  },
  {
   "cell_type": "code",
   "execution_count": 3,
   "id": "f0e53251",
   "metadata": {},
   "outputs": [
    {
     "name": "stdout",
     "output_type": "stream",
     "text": [
      "(100, 10)\n"
     ]
    }
   ],
   "source": [
    "print(data.shape)\n"
   ]
  },
  {
   "cell_type": "markdown",
   "id": "faaa50ce",
   "metadata": {},
   "source": [
    "## average sallary of employess"
   ]
  },
  {
   "cell_type": "code",
   "execution_count": 4,
   "id": "6d7189b5",
   "metadata": {},
   "outputs": [
    {
     "name": "stdout",
     "output_type": "stream",
     "text": [
      "58364.41\n"
     ]
    }
   ],
   "source": [
    "print(data[\"Salary\"].mean())"
   ]
  },
  {
   "cell_type": "markdown",
   "id": "6c131bfa",
   "metadata": {},
   "source": [
    "## which department has higest salary"
   ]
  },
  {
   "cell_type": "code",
   "execution_count": 5,
   "id": "2a4d1920",
   "metadata": {},
   "outputs": [
    {
     "name": "stdout",
     "output_type": "stream",
     "text": [
      "79974\n"
     ]
    }
   ],
   "source": [
    "print(data[\"Salary\"].max())"
   ]
  },
  {
   "cell_type": "markdown",
   "id": "bee93522",
   "metadata": {},
   "source": [
    "## How many male vs female employees are there?"
   ]
  },
  {
   "cell_type": "code",
   "execution_count": 6,
   "id": "659dc0c4",
   "metadata": {},
   "outputs": [
    {
     "name": "stdout",
     "output_type": "stream",
     "text": [
      "Gender\n",
      "F    53\n",
      "M    47\n",
      "Name: count, dtype: int64\n"
     ]
    }
   ],
   "source": [
    "print(data[\"Gender\"].value_counts())"
   ]
  },
  {
   "cell_type": "markdown",
   "id": "c8ace7da",
   "metadata": {},
   "source": [
    "## What is the youngest and oldest employee’s age?"
   ]
  },
  {
   "cell_type": "code",
   "execution_count": 7,
   "id": "38cb3dc2",
   "metadata": {},
   "outputs": [
    {
     "name": "stdout",
     "output_type": "stream",
     "text": [
      "Minimum Age by Department:\n",
      "Department\n",
      "Finance      22\n",
      "HR           22\n",
      "IT           22\n",
      "Marketing    22\n",
      "Sales        22\n",
      "Name: Age, dtype: int64\n",
      "\n",
      "Maximum Age by Department:\n",
      "Department\n",
      "Finance      49\n",
      "HR           49\n",
      "IT           49\n",
      "Marketing    49\n",
      "Sales        49\n",
      "Name: Age, dtype: int64\n",
      "\n",
      "Youngest employee is in: Finance (age 22)\n",
      "Oldest employee is in: Finance (age 49)\n"
     ]
    }
   ],
   "source": [
    "# Minimum age per department\n",
    "min_age_dept = data.groupby(\"Department\")[\"Age\"].min()\n",
    "\n",
    "# Maximum age per department\n",
    "max_age_dept = data.groupby(\"Department\")[\"Age\"].max()\n",
    "\n",
    "print(\"Minimum Age by Department:\")\n",
    "print(min_age_dept)\n",
    "\n",
    "print(\"\\nMaximum Age by Department:\")\n",
    "print(max_age_dept)\n",
    "\n",
    "# Department with the youngest employee\n",
    "youngest_dept = min_age_dept.idxmin()\n",
    "# Department with the oldest employee\n",
    "oldest_dept = max_age_dept.idxmax()\n",
    "\n",
    "print(f\"\\nYoungest employee is in: {youngest_dept} (age {min_age_dept.min()})\")\n",
    "print(f\"Oldest employee is in: {oldest_dept} (age {max_age_dept.max()})\")\n"
   ]
  },
  {
   "cell_type": "markdown",
   "id": "bd14e484",
   "metadata": {},
   "source": [
    "## Which department has the most employees?"
   ]
  },
  {
   "cell_type": "code",
   "execution_count": 8,
   "id": "b8798afe",
   "metadata": {},
   "outputs": [
    {
     "name": "stdout",
     "output_type": "stream",
     "text": [
      " Sales Department has most employess\n"
     ]
    }
   ],
   "source": [
    "depart=data[\"Department\"].max()\n",
    "print(f' {depart} Department has most employess') "
   ]
  },
  {
   "cell_type": "markdown",
   "id": "13df9f8f",
   "metadata": {},
   "source": [
    "# Salary & Career Growth"
   ]
  },
  {
   "cell_type": "markdown",
   "id": "2e9fed7f",
   "metadata": {},
   "source": [
    "### Is there a correlation between years at company and salary?"
   ]
  },
  {
   "cell_type": "code",
   "execution_count": 9,
   "id": "64ff06bb",
   "metadata": {},
   "outputs": [
    {
     "name": "stdout",
     "output_type": "stream",
     "text": [
      "Correlation between YearsAtCompany and Salary: 0.13035358890040236\n"
     ]
    },
    {
     "data": {
      "image/png": "[encoded data removed]",
      "text/plain": [
       "<Figure size 640x480 with 1 Axes>"
      ]
     },
     "metadata": {},
     "output_type": "display_data"
    }
   ],
   "source": [
    "corr=data[\"YearsAtCompany\"].corr(data[\"Salary\"])\n",
    "print(\"Correlation between YearsAtCompany and Salary:\", corr)\n",
    "\n",
    "plt.scatter(data['YearsAtCompany'],data[\"Salary\"])\n",
    "plt.xlabel(\"Years at Company\")\n",
    "plt.ylabel(\"Salary\")\n",
    "plt.title(\"Years at Company vs Salary\")\n",
    "plt.show()"
   ]
  },
  {
   "cell_type": "markdown",
   "id": "bffe1dc7",
   "metadata": {},
   "source": [
    "## Do employees with more projects earn more on average?\n"
   ]
  },
  {
   "cell_type": "code",
   "execution_count": null,
   "id": "8d6e6073",
   "metadata": {},
   "outputs": [
    {
     "name": "stdout",
     "output_type": "stream",
     "text": [
      "Projects\n",
      "1    62290.642857\n",
      "2    60278.727273\n",
      "3    60422.076923\n",
      "4    54929.294118\n",
      "5    55437.105263\n",
      "6    56661.833333\n",
      "7    58408.777778\n",
      "Name: Salary, dtype: float64\n"
     ]
    }
   ],
   "source": [
    "avg_salary_project=data.groupby(\"Projects\")['Salary'].mean().sort_index()\n",
    "print(avg_salary_project)\n",
    "\n"
   ]
  },
  {
   "cell_type": "markdown",
   "id": "3ff8f968",
   "metadata": {},
   "source": [
    "Which department has the highest-paid employee?``"
   ]
  },
  {
   "cell_type": "code",
   "execution_count": 12,
   "id": "713b1bb2",
   "metadata": {},
   "outputs": [
    {
     "name": "stdout",
     "output_type": "stream",
     "text": [
      "Department\n",
      "Finance      79790\n",
      "HR           75743\n",
      "IT           78467\n",
      "Marketing    79974\n",
      "Sales        78754\n",
      "Name: Salary, dtype: int64\n"
     ]
    }
   ],
   "source": [
    "higest_paid_department=data.groupby(\"Department\")[\"Salary\"].max()\n",
    "print(higest_paid_department)"
   ]
  },
  {
   "cell_type": "markdown",
   "id": "fbd41d07",
   "metadata": {},
   "source": [
    "What is the median salary per department?"
   ]
  },
  {
   "cell_type": "code",
   "execution_count": 14,
   "id": "8317dda3",
   "metadata": {},
   "outputs": [
    {
     "name": "stdout",
     "output_type": "stream",
     "text": [
      "Department\n",
      "Finance      61357.0\n",
      "HR           47158.0\n",
      "IT           56870.0\n",
      "Marketing    60536.5\n",
      "Sales        59166.5\n",
      "Name: Salary, dtype: float64\n"
     ]
    }
   ],
   "source": [
    "medain_salary_per_department=data.groupby(\"Department\")[\"Salary\"].median()\n",
    "print(medain_salary_per_department)"
   ]
  },
  {
   "cell_type": "markdown",
   "id": "f1d6d0ff",
   "metadata": {},
   "source": [
    "How does salary vary by gender in each department?"
   ]
  },
  {
   "cell_type": "code",
   "execution_count": null,
   "id": "55266add",
   "metadata": {},
   "outputs": [
    {
     "name": "stdout",
     "output_type": "stream",
     "text": [
      "Department  Gender\n",
      "Finance     F         62422.272727\n",
      "            M         60118.750000\n",
      "HR          F         54825.000000\n",
      "            M         53041.454545\n",
      "IT          F         59348.625000\n",
      "            M         54777.375000\n",
      "Marketing   F         56938.642857\n",
      "            M         61849.666667\n",
      "Sales       F         60250.400000\n",
      "            M         60286.375000\n",
      "Name: Salary, dtype: float64\n"
     ]
    }
   ],
   "source": [
    "salary_vary_By_gender=data.groupby([\"Department\",\"Gender\"])[\"Salary\"].mean()\n",
    "print(salary_vary_By_gender)                                                                         "
   ]
  },
  {
   "cell_type": "markdown",
   "id": "477c296c",
   "metadata": {},
   "source": [
    "### Do employees with more years at the company tend to handle more projects?"
   ]
  },
  {
   "cell_type": "code",
   "execution_count": 18,
   "id": "6e551e29",
   "metadata": {},
   "outputs": [
    {
     "name": "stdout",
     "output_type": "stream",
     "text": [
      "Correlation between YearsAtCompany and Projects: 0.0933157825701538\n"
     ]
    }
   ],
   "source": [
    "corr_year_project_tend=data[\"YearsAtCompany\"].corr(data[\"Projects\"])\n",
    "\n",
    "print(\"Correlation between YearsAtCompany and Projects:\",corr_year_project_tend)"
   ]
  },
  {
   "cell_type": "markdown",
   "id": "e13f20bd",
   "metadata": {},
   "source": [
    "# Productivity & Engagement"
   ]
  },
  {
   "cell_type": "markdown",
   "id": "325c5178",
   "metadata": {},
   "source": [
    "\n",
    "### Which department has the most experienced employees (highest avg. years)?"
   ]
  },
  {
   "cell_type": "code",
   "execution_count": 26,
   "id": "2a6ff623",
   "metadata": {},
   "outputs": [
    {
     "name": "stdout",
     "output_type": "stream",
     "text": [
      "Department\n",
      "Finance      14\n",
      "HR           14\n",
      "IT           14\n",
      "Marketing    14\n",
      "Sales        13\n",
      "Name: YearsAtCompany, dtype: int64\n"
     ]
    }
   ],
   "source": [
    "department_with_experince_of_employee=data.groupby(\"Department\")[\"YearsAtCompany\"].max()\n",
    "print(department_with_experince_of_employee)\n"
   ]
  },
  {
   "cell_type": "markdown",
   "id": "e04d33ca",
   "metadata": {},
   "source": [
    "### Which department has the youngest workforce?"
   ]
  },
  {
   "cell_type": "code",
   "execution_count": 38,
   "id": "c94583c1",
   "metadata": {},
   "outputs": [
    {
     "name": "stdout",
     "output_type": "stream",
     "text": [
      "Finance department has the youngest workforce (age 19)\n"
     ]
    }
   ],
   "source": [
    "\n",
    "youngest_emp = data.groupby(\"Department\")[\"Age\"].min()\n",
    "dept_youngest = youngest_emp.idxmin()\n",
    "age_youngest = youngest_emp.min()\n",
    "print(f\"{dept_youngest} department has the youngest workforce (age {age_youngest})\")\n"
   ]
  },
  {
   "cell_type": "markdown",
   "id": "f99eff30",
   "metadata": {},
   "source": [
    "### Compare salary distribution between IT, Finance, Sales, etc."
   ]
  },
  {
   "cell_type": "code",
   "execution_count": 40,
   "id": "e2456f96",
   "metadata": {},
   "outputs": [
    {
     "data": {
      "text/plain": [
       "<Figure size 800x600 with 0 Axes>"
      ]
     },
     "metadata": {},
     "output_type": "display_data"
    },
    {
     "data": {
      "image/png": "[encoded data removed]",
      "text/plain": [
       "<Figure size 640x480 with 1 Axes>"
      ]
     },
     "metadata": {},
     "output_type": "display_data"
    }
   ],
   "source": [
    "# ...existing code...\n",
    "plt.figure(figsize=(8, 6))\n",
    "data.boxplot(column=\"Salary\", by=\"Department\")\n",
    "plt.title(\"Salary Distribution by Department\")\n",
    "plt.suptitle(\"\")  # Removes the default title\n",
    "plt.xlabel(\"Department\")\n",
    "plt.ylabel(\"Salary\")\n",
    "plt.show()\n",
    "# ...existing code..."
   ]
  },
  {
   "cell_type": "markdown",
   "id": "c712dcdd",
   "metadata": {},
   "source": [
    "### Which department has the largest gender gap in salary?\n"
   ]
  },
  {
   "cell_type": "code",
   "execution_count": 43,
   "id": "985b544d",
   "metadata": {},
   "outputs": [
    {
     "name": "stdout",
     "output_type": "stream",
     "text": [
      "Department with largest gender gap: Marketing\n",
      "Gap amount: 4911.023809523809\n",
      "\n",
      "Full table:\n",
      " Gender                 F             M          Gap\n",
      "Department                                         \n",
      "Finance     62422.272727  60118.750000  2303.522727\n",
      "HR          54825.000000  53041.454545  1783.545455\n",
      "IT          59348.625000  54777.375000  4571.250000\n",
      "Marketing   56938.642857  61849.666667  4911.023810\n",
      "Sales       60250.400000  60286.375000    35.975000\n"
     ]
    }
   ],
   "source": [
    "avg_salary = data.groupby([\"Department\", \"Gender\"])[\"Salary\"].mean().unstack()\n",
    "\n",
    "# Step 2: Calculate the absolute gender gap in salary\n",
    "avg_salary[\"Gap\"] = (avg_salary[\"M\"] - avg_salary[\"F\"]).abs()\n",
    "\n",
    "# Step 3: Find department with max gap\n",
    "largest_gap_dept = avg_salary[\"Gap\"].idxmax()\n",
    "largest_gap_value = avg_salary[\"Gap\"].max()\n",
    "\n",
    "print(\"Department with largest gender gap:\", largest_gap_dept)\n",
    "print(\"Gap amount:\", largest_gap_value)\n",
    "print(\"\\nFull table:\\n\", avg_salary)\n"
   ]
  }
 ],
 "metadata": {
  "kernelspec": {
   "display_name": "pandas",
   "language": "python",
   "name": "python3"
  },
  "language_info": {
   "codemirror_mode": {
    "name": "ipython",
    "version": 3
   },
   "file_extension": ".py",
   "mimetype": "text/x-python",
   "name": "python",
   "nbconvert_exporter": "python",
   "pygments_lexer": "ipython3",
   "version": "3.13.5"
  }
 },
 "nbformat": 4,
 "nbformat_minor": 5
}
